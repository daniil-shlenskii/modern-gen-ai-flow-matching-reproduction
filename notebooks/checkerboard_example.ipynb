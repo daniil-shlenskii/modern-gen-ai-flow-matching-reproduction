{
 "cells": [
  {
   "cell_type": "code",
   "execution_count": 1,
   "metadata": {},
   "outputs": [],
   "source": [
    "import math\n",
    "import os\n",
    "import time\n",
    "\n",
    "import matplotlib.pyplot as plt\n",
    "import numpy as np\n",
    "import ot as pot\n",
    "import torch\n",
    "import torchdyn\n",
    "from torchdyn.core import NeuralODE\n",
    "from torchdyn.datasets import generate_moons\n",
    "from torchcfm.models.models import *\n",
    "from torchcfm.utils import *\n",
    "\n",
    "from src.model.cfm import ConditionalFlowMatcher, VariancePreservingConditionalFlowMatcher\n",
    "from src.utils.dataset import generate_checkerboard_dataset\n",
    "\n",
    "savedir = \"models/checkerboard_ot\"\n",
    "os.makedirs(savedir, exist_ok=True)"
   ]
  },
  {
   "cell_type": "code",
   "execution_count": null,
   "metadata": {},
   "outputs": [],
   "source": [
    "%%time\n",
    "sigma = 0.002\n",
    "dim = 2\n",
    "batch_size = 256\n",
    "model = MLP(dim=dim, time_varying=True)\n",
    "optimizer = torch.optim.Adam(model.parameters())\n",
    "\n",
    "cfm = ConditionalFlowMatcher(sigma=sigma) # or VariancePreservingConditionalFlowMatcher \n",
    "\n",
    "start = time.time()\n",
    "for k in range(300_000):\n",
    "    optimizer.zero_grad()\n",
    "\n",
    "    x0 = torch.randn(batch_size, dim)\n",
    "    x1 = torch.tensor(\n",
    "        generate_checkerboard_dataset(batch_size, 1, 4),\n",
    "        dtype=torch.float32\n",
    "    )\n",
    "    t, xt, ut = cfm.sample_location_and_conditional_flow(x0, x1)\n",
    "\n",
    "    vt = model(torch.cat([xt, t[:, None]], dim=-1))\n",
    "    loss = torch.mean((vt - ut) ** 2)\n",
    "\n",
    "    loss.backward()\n",
    "    optimizer.step()\n",
    "\n",
    "    if (k + 1) % 10_000 == 0:\n",
    "        end = time.time()\n",
    "        print(f\"{k+1}: loss {loss.item():0.3f} time {(end - start):0.2f}\")\n",
    "        start = end\n",
    "        node = NeuralODE(\n",
    "            torch_wrapper(model), solver=\"dopri5\", sensitivity=\"adjoint\", atol=1e-4, rtol=1e-4\n",
    "        )\n",
    "        with torch.no_grad():\n",
    "            traj = node.trajectory(\n",
    "                torch.randn(1024, dim),\n",
    "                t_span=torch.linspace(0, 1, 100),\n",
    "            )\n",
    "        gens = traj[-1]\n",
    "        plt.scatter(gens[:, 0], gens[:, 1])\n",
    "        plt.show()\n",
    "\n",
    "        torch.save(model.state_dict(), f\"{savedir}/checkpoint.pt\")"
   ]
  }
 ],
 "metadata": {
  "kernelspec": {
   "display_name": "CDIL",
   "language": "python",
   "name": "python3"
  },
  "language_info": {
   "codemirror_mode": {
    "name": "ipython",
    "version": 3
   },
   "file_extension": ".py",
   "mimetype": "text/x-python",
   "name": "python",
   "nbconvert_exporter": "python",
   "pygments_lexer": "ipython3",
   "version": "3.9.20"
  }
 },
 "nbformat": 4,
 "nbformat_minor": 2
}
